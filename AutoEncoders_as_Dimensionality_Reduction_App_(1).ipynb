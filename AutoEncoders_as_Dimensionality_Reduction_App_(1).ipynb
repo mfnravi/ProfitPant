{
  "nbformat": 4,
  "nbformat_minor": 0,
  "metadata": {
    "colab": {
      "name": "AutoEncoders_as_Dimensionality_Reduction_App (1).ipynb",
      "provenance": [],
      "include_colab_link": true
    },
    "kernelspec": {
      "name": "python3",
      "display_name": "Python 3"
    },
    "language_info": {
      "name": "python"
    }
  },
  "cells": [
    {
      "cell_type": "markdown",
      "metadata": {
        "id": "view-in-github",
        "colab_type": "text"
      },
      "source": [
        "<a href=\"https://colab.research.google.com/github/mfnravi/ProfitPant/blob/main/AutoEncoders_as_Dimensionality_Reduction_App_(1).ipynb\" target=\"_parent\"><img src=\"https://colab.research.google.com/assets/colab-badge.svg\" alt=\"Open In Colab\"/></a>"
      ]
    },
    {
      "cell_type": "code",
      "metadata": {
        "id": "yJ7K6f8exsHd"
      },
      "source": [
        "import numpy as np\n",
        "import pandas as pd\n",
        "import matplotlib.pyplot as plt\n"
      ],
      "execution_count": 1,
      "outputs": []
    },
    {
      "cell_type": "code",
      "metadata": {
        "id": "nl0-AsodyQgz"
      },
      "source": [
        "import mpl_toolkits"
      ],
      "execution_count": null,
      "outputs": []
    },
    {
      "cell_type": "code",
      "metadata": {
        "id": "_eNw_dZYyH8U"
      },
      "source": [
        "from mpl_toolkits.mplot3d import Axes3D"
      ],
      "execution_count": 2,
      "outputs": []
    },
    {
      "cell_type": "code",
      "metadata": {
        "id": "d4x4NnoRyN9F"
      },
      "source": [
        "#Create a random dataset\n",
        "from sklearn.datasets import make_blobs\n",
        "\n",
        "data = make_blobs(n_samples=300, n_features=2 , centers= 2 , cluster_std= 1.0, random_state = 100)"
      ],
      "execution_count": 3,
      "outputs": []
    },
    {
      "cell_type": "code",
      "metadata": {
        "id": "R_7PKQ-QzAVO"
      },
      "source": [
        "X,y = data\n",
        "\n",
        "np.random.seed(seed=100)\n",
        "z_noise= np.random.normal(size=len(X))\n",
        "z_noise = pd.Series(z_noise)"
      ],
      "execution_count": 4,
      "outputs": []
    },
    {
      "cell_type": "code",
      "metadata": {
        "id": "BrSsMIpLzCXZ"
      },
      "source": [
        "feat = pd.DataFrame(X)\n",
        "feat = pd.concat([feat,z_noise],axis=1)\n",
        "feat.columns=['X1','X2','X3']"
      ],
      "execution_count": 5,
      "outputs": []
    },
    {
      "cell_type": "code",
      "metadata": {
        "colab": {
          "base_uri": "https://localhost:8080/",
          "height": 204
        },
        "id": "UrFKkVcbzQjq",
        "outputId": "cf9bab16-0404-4a40-e455-d82dec69de9a"
      },
      "source": [
        "feat.head()"
      ],
      "execution_count": 6,
      "outputs": [
        {
          "output_type": "execute_result",
          "data": {
            "text/html": [
              "<div>\n",
              "<style scoped>\n",
              "    .dataframe tbody tr th:only-of-type {\n",
              "        vertical-align: middle;\n",
              "    }\n",
              "\n",
              "    .dataframe tbody tr th {\n",
              "        vertical-align: top;\n",
              "    }\n",
              "\n",
              "    .dataframe thead th {\n",
              "        text-align: right;\n",
              "    }\n",
              "</style>\n",
              "<table border=\"1\" class=\"dataframe\">\n",
              "  <thead>\n",
              "    <tr style=\"text-align: right;\">\n",
              "      <th></th>\n",
              "      <th>X1</th>\n",
              "      <th>X2</th>\n",
              "      <th>X3</th>\n",
              "    </tr>\n",
              "  </thead>\n",
              "  <tbody>\n",
              "    <tr>\n",
              "      <th>0</th>\n",
              "      <td>-2.088489</td>\n",
              "      <td>6.496238</td>\n",
              "      <td>-1.749765</td>\n",
              "    </tr>\n",
              "    <tr>\n",
              "      <th>1</th>\n",
              "      <td>-1.013016</td>\n",
              "      <td>-4.250270</td>\n",
              "      <td>0.342680</td>\n",
              "    </tr>\n",
              "    <tr>\n",
              "      <th>2</th>\n",
              "      <td>-1.961320</td>\n",
              "      <td>5.757980</td>\n",
              "      <td>1.153036</td>\n",
              "    </tr>\n",
              "    <tr>\n",
              "      <th>3</th>\n",
              "      <td>0.245526</td>\n",
              "      <td>6.499957</td>\n",
              "      <td>-0.252436</td>\n",
              "    </tr>\n",
              "    <tr>\n",
              "      <th>4</th>\n",
              "      <td>-0.643589</td>\n",
              "      <td>7.686818</td>\n",
              "      <td>0.981321</td>\n",
              "    </tr>\n",
              "  </tbody>\n",
              "</table>\n",
              "</div>"
            ],
            "text/plain": [
              "         X1        X2        X3\n",
              "0 -2.088489  6.496238 -1.749765\n",
              "1 -1.013016 -4.250270  0.342680\n",
              "2 -1.961320  5.757980  1.153036\n",
              "3  0.245526  6.499957 -0.252436\n",
              "4 -0.643589  7.686818  0.981321"
            ]
          },
          "metadata": {
            "tags": []
          },
          "execution_count": 6
        }
      ]
    },
    {
      "cell_type": "code",
      "metadata": {
        "colab": {
          "base_uri": "https://localhost:8080/",
          "height": 282
        },
        "id": "MJ2JtdNdz5YG",
        "outputId": "d8d074d2-f9d7-43e1-dc7f-bd53778b187a"
      },
      "source": [
        "plt.scatter(feat['X1'],feat['X2'], c=y)"
      ],
      "execution_count": 7,
      "outputs": [
        {
          "output_type": "execute_result",
          "data": {
            "text/plain": [
              "<matplotlib.collections.PathCollection at 0x7f6dc60379d0>"
            ]
          },
          "metadata": {
            "tags": []
          },
          "execution_count": 7
        },
        {
          "output_type": "display_data",
          "data": {
            "image/png": "[encoded data removed]",
            "text/plain": [
              "<Figure size 432x288 with 1 Axes>"
            ]
          },
          "metadata": {
            "tags": [],
            "needs_background": "light"
          }
        }
      ]
    },
    {
      "cell_type": "code",
      "metadata": {
        "colab": {
          "base_uri": "https://localhost:8080/",
          "height": 265
        },
        "id": "u1m6qpQe0EwR",
        "outputId": "e3056de1-c020-4e9f-df7d-101588d71454"
      },
      "source": [
        "%matplotlib inline\n",
        "fig = plt.figure()\n",
        "ax = fig.add_subplot(111,projection='3d')\n",
        "ax.scatter(feat['X1'],feat['X2'],feat['X3'],c=y)"
      ],
      "execution_count": 8,
      "outputs": [
        {
          "output_type": "execute_result",
          "data": {
            "text/plain": [
              "<mpl_toolkits.mplot3d.art3d.Path3DCollection at 0x7f6dc5b3c6d0>"
            ]
          },
          "metadata": {
            "tags": []
          },
          "execution_count": 8
        },
        {
          "output_type": "display_data",
          "data": {
            "image/png": "[encoded data removed]",
            "text/plain": [
              "<Figure size 432x288 with 1 Axes>"
            ]
          },
          "metadata": {
            "tags": [],
            "needs_background": "light"
          }
        }
      ]
    },
    {
      "cell_type": "code",
      "metadata": {
        "id": "jQ2dgdas0XKX"
      },
      "source": [
        "from tensorflow.keras.models import Sequential\n",
        "from tensorflow.keras.layers import Dense\n",
        "from tensorflow.keras.optimizers import SGD"
      ],
      "execution_count": 10,
      "outputs": []
    },
    {
      "cell_type": "code",
      "metadata": {
        "id": "zwe8iL-C15ii"
      },
      "source": [
        "#Autoencoder's Encodder Component \n",
        "\n",
        "# Input ---> 3 columns\n",
        "# Output ---> 2 cols\n",
        "\n",
        "encoder = Sequential()\n",
        "encoder.add(Dense(units=3 , activation='relu', input_shape=[3]))\n",
        "encoder.add(Dense(units=2 , activation='relu'))\n",
        "encoder.add(Dense(units=2 , activation='linear'))\n",
        "\n",
        "\n",
        "#Autoencoder's Decoder Component\n",
        "\n",
        "#Input --> 2 Cols\n",
        "#Output --> 3 Cols\n",
        "\n",
        "decoder = Sequential()\n",
        "decoder.add(Dense(units= 3, activation='relu', input_shape=[2]))\n",
        "decoder.add(Dense(units=3 , activation='relu'))\n",
        "decoder.add(Dense(units=3 , activation='linear'))\n",
        "\n",
        "\n",
        "\n",
        "\n",
        "# PCA Autoencoder (Which contains encoder and decoder)\n",
        "\n",
        "pcaAutoEncoder = Sequential([encoder,decoder])\n",
        "pcaAutoEncoder.compile(loss=\"mse\", optimizer=SGD(lr=1.6) )"
      ],
      "execution_count": 11,
      "outputs": []
    },
    {
      "cell_type": "code",
      "metadata": {
        "colab": {
          "base_uri": "https://localhost:8080/"
        },
        "id": "4WmbAO3L3JIT",
        "outputId": "6c048451-b58c-4aef-bc74-bf4b8d111903"
      },
      "source": [
        "pcaAutoEncoder.fit(feat,feat, epochs=15)"
      ],
      "execution_count": 12,
      "outputs": [
        {
          "output_type": "stream",
          "text": [
            "Epoch 1/15\n",
            "10/10 [==============================] - 1s 2ms/step - loss: 13.4258\n",
            "Epoch 2/15\n",
            "10/10 [==============================] - 0s 2ms/step - loss: 12.9246\n",
            "Epoch 3/15\n",
            "10/10 [==============================] - 0s 2ms/step - loss: 13.6325\n",
            "Epoch 4/15\n",
            "10/10 [==============================] - 0s 2ms/step - loss: 14.7513\n",
            "Epoch 5/15\n",
            "10/10 [==============================] - 0s 1ms/step - loss: 13.4894\n",
            "Epoch 6/15\n",
            "10/10 [==============================] - 0s 2ms/step - loss: 12.6678\n",
            "Epoch 7/15\n",
            "10/10 [==============================] - 0s 2ms/step - loss: 12.9281\n",
            "Epoch 8/15\n",
            "10/10 [==============================] - 0s 2ms/step - loss: 14.0213\n",
            "Epoch 9/15\n",
            "10/10 [==============================] - 0s 2ms/step - loss: 12.9929\n",
            "Epoch 10/15\n",
            "10/10 [==============================] - 0s 2ms/step - loss: 14.0855\n",
            "Epoch 11/15\n",
            "10/10 [==============================] - 0s 2ms/step - loss: 13.2319\n",
            "Epoch 12/15\n",
            "10/10 [==============================] - 0s 2ms/step - loss: 13.1080\n",
            "Epoch 13/15\n",
            "10/10 [==============================] - 0s 2ms/step - loss: 12.7073\n",
            "Epoch 14/15\n",
            "10/10 [==============================] - 0s 2ms/step - loss: 13.2503\n",
            "Epoch 15/15\n",
            "10/10 [==============================] - 0s 2ms/step - loss: 13.6047\n"
          ],
          "name": "stdout"
        },
        {
          "output_type": "execute_result",
          "data": {
            "text/plain": [
              "<tensorflow.python.keras.callbacks.History at 0x7f6d855f8a90>"
            ]
          },
          "metadata": {
            "tags": []
          },
          "execution_count": 12
        }
      ]
    },
    {
      "cell_type": "code",
      "metadata": {
        "colab": {
          "base_uri": "https://localhost:8080/"
        },
        "id": "B6zrQCEZ3q6l",
        "outputId": "58444d4d-17a8-4115-a715-0417f8e49c75"
      },
      "source": [
        "#Generated data \n",
        "\n",
        "encoded_2dim = encoder.predict(feat)\n",
        "encoded_2dim"
      ],
      "execution_count": 13,
      "outputs": [
        {
          "output_type": "execute_result",
          "data": {
            "text/plain": [
              "array([[ 0.51882756,  0.11027898],\n",
              "       [ 0.13265494, -0.09725618],\n",
              "       [ 0.63210297,  0.20771557],\n",
              "       [ 0.13265494, -0.09725618],\n",
              "       [ 0.13265494, -0.09725618],\n",
              "       [ 0.13265494, -0.09725618],\n",
              "       [ 0.13265494, -0.09725618],\n",
              "       [ 0.44508094,  0.04745179],\n",
              "       [ 0.13265494, -0.09725618],\n",
              "       [ 0.13265494, -0.09725618],\n",
              "       [ 0.13265494, -0.09725618],\n",
              "       [ 0.13265494, -0.09725618],\n",
              "       [ 0.13265494, -0.09725618],\n",
              "       [ 0.13265494, -0.09725618],\n",
              "       [ 0.13265494, -0.09725618],\n",
              "       [ 0.13265494, -0.09725618],\n",
              "       [ 0.13265494, -0.09725618],\n",
              "       [ 0.13265494, -0.09725618],\n",
              "       [ 0.13265494, -0.09725618],\n",
              "       [ 0.40141568,  0.0092843 ],\n",
              "       [ 0.33205527, -0.03022546],\n",
              "       [ 0.13265494, -0.09725618],\n",
              "       [ 0.13265494, -0.09725618],\n",
              "       [ 0.13265494, -0.09725618],\n",
              "       [ 0.78225315,  0.33687088],\n",
              "       [ 0.13265494, -0.09725618],\n",
              "       [ 0.13265494, -0.09725618],\n",
              "       [ 0.14566918, -0.1156966 ],\n",
              "       [ 0.31148666, -0.04567419],\n",
              "       [ 0.50049645,  0.098658  ],\n",
              "       [ 0.13265494, -0.09725618],\n",
              "       [ 0.13265494, -0.09725618],\n",
              "       [ 0.13265494, -0.09725618],\n",
              "       [ 0.13265494, -0.09725618],\n",
              "       [ 0.39447936,  0.01938159],\n",
              "       [ 0.13265494, -0.09725618],\n",
              "       [ 0.13265494, -0.09725618],\n",
              "       [ 0.29099992, -0.0705693 ],\n",
              "       [ 0.48239452,  0.0815703 ],\n",
              "       [ 0.24806687, -0.10187747],\n",
              "       [ 0.13265494, -0.09725618],\n",
              "       [ 0.41197267,  0.02776137],\n",
              "       [ 0.13265494, -0.09725618],\n",
              "       [ 0.13265494, -0.09725618],\n",
              "       [ 0.13265494, -0.09725618],\n",
              "       [ 0.13265494, -0.09725618],\n",
              "       [ 0.13265494, -0.09725618],\n",
              "       [ 0.778088  ,  0.33328807],\n",
              "       [ 0.13265494, -0.09725618],\n",
              "       [ 0.13265494, -0.09725618],\n",
              "       [ 0.13265494, -0.09725618],\n",
              "       [ 0.13265494, -0.09725618],\n",
              "       [ 0.45257646,  0.06167959],\n",
              "       [ 0.58250344,  0.1650514 ],\n",
              "       [ 0.677274  ,  0.24657056],\n",
              "       [ 0.58606005,  0.17327619],\n",
              "       [ 0.13265494, -0.09725618],\n",
              "       [ 0.33551583, -0.02131277],\n",
              "       [ 0.13265494, -0.09725618],\n",
              "       [ 0.13265494, -0.09725618],\n",
              "       [ 0.767058  ,  0.32380044],\n",
              "       [ 0.53372324,  0.12309188],\n",
              "       [ 0.13265494, -0.09725618],\n",
              "       [ 0.4922812 ,  0.09836389],\n",
              "       [ 0.13265494, -0.09725618],\n",
              "       [ 0.13265494, -0.09725618],\n",
              "       [ 0.7957089 ,  0.34844518],\n",
              "       [ 0.13265494, -0.09725618],\n",
              "       [ 0.7647394 ,  0.32180595],\n",
              "       [ 0.51909167,  0.11050618],\n",
              "       [ 0.13265494, -0.09725618],\n",
              "       [ 0.13265494, -0.09725618],\n",
              "       [ 0.13265494, -0.09725618],\n",
              "       [ 0.33690152, -0.02960419],\n",
              "       [ 0.13265494, -0.09725618],\n",
              "       [ 0.13265494, -0.09725618],\n",
              "       [ 0.13265494, -0.09725618],\n",
              "       [ 0.13265494, -0.09725618],\n",
              "       [ 0.13265494, -0.09725618],\n",
              "       [ 0.17396072, -0.15578404],\n",
              "       [ 0.28356922, -0.05968178],\n",
              "       [ 0.13265494, -0.09725618],\n",
              "       [ 0.13265494, -0.09725618],\n",
              "       [ 0.13265494, -0.09725618],\n",
              "       [ 0.13265494, -0.09725618],\n",
              "       [ 0.13265494, -0.09725618],\n",
              "       [ 0.13265494, -0.09725618],\n",
              "       [ 0.24329624, -0.10519829],\n",
              "       [ 0.13265494, -0.09725618],\n",
              "       [ 0.13265494, -0.09725618],\n",
              "       [ 0.13265494, -0.09725618],\n",
              "       [ 0.13265494, -0.09725618],\n",
              "       [ 0.13265494, -0.09725618],\n",
              "       [ 0.13265494, -0.09725618],\n",
              "       [ 0.7776104 ,  0.3328774 ],\n",
              "       [ 0.13265494, -0.09725618],\n",
              "       [ 0.13265494, -0.09725618],\n",
              "       [ 0.5775602 ,  0.16598657],\n",
              "       [ 0.13265494, -0.09725618],\n",
              "       [ 0.57093275,  0.15509856],\n",
              "       [ 0.16728985, -0.14633183],\n",
              "       [ 0.13265494, -0.09725618],\n",
              "       [ 0.13265494, -0.09725618],\n",
              "       [ 0.73789656,  0.29871652],\n",
              "       [ 0.13265494, -0.09725618],\n",
              "       [ 0.1368608 , -0.10321564],\n",
              "       [ 0.13265494, -0.09725618],\n",
              "       [ 0.13265494, -0.09725618],\n",
              "       [ 0.13265494, -0.09725618],\n",
              "       [ 0.13265494, -0.09725618],\n",
              "       [ 0.30360866, -0.05648427],\n",
              "       [ 0.70217896,  0.26799312],\n",
              "       [ 0.15971857, -0.13560376],\n",
              "       [ 0.13265494, -0.09725618],\n",
              "       [ 0.14660393, -0.11702109],\n",
              "       [ 0.5792417 ,  0.16224569],\n",
              "       [ 0.13265494, -0.09725618],\n",
              "       [ 0.46489868,  0.08059047],\n",
              "       [ 0.13265494, -0.09725618],\n",
              "       [ 0.13265494, -0.09725618],\n",
              "       [ 0.13265494, -0.09725618],\n",
              "       [ 0.13265494, -0.09725618],\n",
              "       [ 0.13265494, -0.09725618],\n",
              "       [ 0.13265494, -0.09725618],\n",
              "       [ 0.289196  , -0.06705756],\n",
              "       [ 0.13265494, -0.09725618],\n",
              "       [ 0.32148322, -0.04328775],\n",
              "       [ 0.73239577,  0.29398495],\n",
              "       [ 0.29853672, -0.05781869],\n",
              "       [ 0.13265494, -0.09725618],\n",
              "       [ 0.13265494, -0.09725618],\n",
              "       [ 0.13265494, -0.09725618],\n",
              "       [ 0.13265494, -0.09725618],\n",
              "       [ 0.7905314 ,  0.34399164],\n",
              "       [ 0.13265494, -0.09725618],\n",
              "       [ 0.53862965,  0.12731226],\n",
              "       [ 0.13265494, -0.09725618],\n",
              "       [ 0.7860935 ,  0.34017423],\n",
              "       [ 0.13265494, -0.09725618],\n",
              "       [ 0.5440619 ,  0.13364692],\n",
              "       [ 0.2107683 , -0.13950714],\n",
              "       [ 0.65041053,  0.2234633 ],\n",
              "       [ 0.13265494, -0.09725618],\n",
              "       [ 0.7555754 ,  0.31392342],\n",
              "       [ 0.13594748, -0.10192152],\n",
              "       [ 0.6694932 ,  0.2398777 ],\n",
              "       [ 0.6398078 ,  0.21434313],\n",
              "       [ 0.15185708, -0.12446448],\n",
              "       [ 0.13265494, -0.09725618],\n",
              "       [ 0.13265494, -0.09725618],\n",
              "       [ 0.13265494, -0.09725618],\n",
              "       [ 0.13265494, -0.09725618],\n",
              "       [ 0.13265494, -0.09725618],\n",
              "       [ 0.13265494, -0.09725618],\n",
              "       [ 0.13265494, -0.09725618],\n",
              "       [ 0.13265494, -0.09725618],\n",
              "       [ 0.13265494, -0.09725618],\n",
              "       [ 0.51138127,  0.10387391],\n",
              "       [ 0.84703624,  0.3925957 ],\n",
              "       [ 0.13265494, -0.09725618],\n",
              "       [ 0.13265494, -0.09725618],\n",
              "       [ 0.13265494, -0.09725618],\n",
              "       [ 0.13265494, -0.09725618],\n",
              "       [ 0.13265494, -0.09725618],\n",
              "       [ 0.13265494, -0.09725618],\n",
              "       [ 0.13265494, -0.09725618],\n",
              "       [ 0.75878406,  0.31668347],\n",
              "       [ 0.6466539 ,  0.22110319],\n",
              "       [ 0.13265494, -0.09725618],\n",
              "       [ 0.13265494, -0.09725618],\n",
              "       [ 0.13265494, -0.09725618],\n",
              "       [ 0.13265494, -0.09725618],\n",
              "       [ 0.16502318, -0.14312008],\n",
              "       [ 0.13265494, -0.09725618],\n",
              "       [ 0.13265494, -0.09725618],\n",
              "       [ 0.13265494, -0.09725618],\n",
              "       [ 0.13265494, -0.09725618],\n",
              "       [ 0.36552617, -0.00759524],\n",
              "       [ 0.3935971 ,  0.02749281],\n",
              "       [ 0.13265494, -0.09725618],\n",
              "       [ 0.13265494, -0.09725618],\n",
              "       [ 0.13265494, -0.09725618],\n",
              "       [ 0.13265494, -0.09725618],\n",
              "       [ 0.13265494, -0.09725618],\n",
              "       [ 0.7017058 ,  0.26758617],\n",
              "       [ 0.599203  ,  0.17941582],\n",
              "       [ 0.13265494, -0.09725618],\n",
              "       [ 0.13265494, -0.09725618],\n",
              "       [ 0.42926267,  0.04668278],\n",
              "       [ 0.5321765 ,  0.1294552 ],\n",
              "       [ 0.13265494, -0.09725618],\n",
              "       [ 0.13265494, -0.09725618],\n",
              "       [ 0.13265494, -0.09725618],\n",
              "       [ 0.13265494, -0.09725618],\n",
              "       [ 0.13265494, -0.09725618],\n",
              "       [ 0.15679753, -0.13146481],\n",
              "       [ 0.13265494, -0.09725618],\n",
              "       [ 0.13265494, -0.09725618],\n",
              "       [ 0.13265494, -0.09725618],\n",
              "       [ 0.13265494, -0.09725618],\n",
              "       [ 0.13265494, -0.09725618],\n",
              "       [ 0.13265494, -0.09725618],\n",
              "       [ 0.13265494, -0.09725618],\n",
              "       [ 0.13265494, -0.09725618],\n",
              "       [ 0.13265494, -0.09725618],\n",
              "       [ 0.7879187 ,  0.34174427],\n",
              "       [ 0.13265494, -0.09725618],\n",
              "       [ 0.13265494, -0.09725618],\n",
              "       [ 0.13265494, -0.09725618],\n",
              "       [ 0.58515537,  0.16733253],\n",
              "       [ 0.14812022, -0.11916959],\n",
              "       [ 0.13265494, -0.09725618],\n",
              "       [ 0.13265494, -0.09725618],\n",
              "       [ 0.13265494, -0.09725618],\n",
              "       [ 0.13265494, -0.09725618],\n",
              "       [ 0.13265494, -0.09725618],\n",
              "       [ 0.13265494, -0.09725618],\n",
              "       [ 0.13265494, -0.09725618],\n",
              "       [ 0.13265494, -0.09725618],\n",
              "       [ 0.7739526 ,  0.33099782],\n",
              "       [ 0.14235932, -0.11100672],\n",
              "       [ 0.14493345, -0.11465411],\n",
              "       [ 0.13265494, -0.09725618],\n",
              "       [ 0.13265494, -0.09725618],\n",
              "       [ 0.13265494, -0.09725618],\n",
              "       [ 0.5115225 ,  0.10399532],\n",
              "       [ 0.13265494, -0.09725618],\n",
              "       [ 0.13265494, -0.09725618],\n",
              "       [ 0.83246934,  0.38006565],\n",
              "       [ 0.25848776, -0.09547912],\n",
              "       [ 0.13265494, -0.09725618],\n",
              "       [ 0.3696391 , -0.01804911],\n",
              "       [ 0.13265494, -0.09725618],\n",
              "       [ 0.13265494, -0.09725618],\n",
              "       [ 0.13265494, -0.09725618],\n",
              "       [ 0.1760749 , -0.15877974],\n",
              "       [ 0.13265494, -0.09725618],\n",
              "       [ 0.8326752 ,  0.38024265],\n",
              "       [ 0.13265494, -0.09725618],\n",
              "       [ 0.13265494, -0.09725618],\n",
              "       [ 0.73745215,  0.2983343 ],\n",
              "       [ 0.13265494, -0.09725618],\n",
              "       [ 0.13265494, -0.09725618],\n",
              "       [ 0.13265494, -0.09725618],\n",
              "       [ 0.13265494, -0.09725618],\n",
              "       [ 0.8205577 ,  0.3698195 ],\n",
              "       [ 0.13265494, -0.09725618],\n",
              "       [ 0.13265494, -0.09725618],\n",
              "       [ 0.72648895,  0.28890392],\n",
              "       [ 0.13265494, -0.09725618],\n",
              "       [ 0.13265494, -0.09725618],\n",
              "       [ 0.13265494, -0.09725618],\n",
              "       [ 0.13265494, -0.09725618],\n",
              "       [ 0.42106062,  0.03606027],\n",
              "       [ 0.13265494, -0.09725618],\n",
              "       [ 0.87369275,  0.4155249 ],\n",
              "       [ 0.13265494, -0.09725618],\n",
              "       [ 0.18352844, -0.1533082 ],\n",
              "       [ 0.13265494, -0.09725618],\n",
              "       [ 0.13265494, -0.09725618],\n",
              "       [ 0.13265494, -0.09725618],\n",
              "       [ 0.64599407,  0.21966428],\n",
              "       [ 0.3779413 ,  0.01199997],\n",
              "       [ 0.6680205 ,  0.23861095],\n",
              "       [ 0.62882453,  0.20489559],\n",
              "       [ 0.13265494, -0.09725618],\n",
              "       [ 0.13265494, -0.09725618],\n",
              "       [ 0.13265494, -0.09725618],\n",
              "       [ 0.13893047, -0.10614825],\n",
              "       [ 0.13265494, -0.09725618],\n",
              "       [ 0.16332342, -0.14071162],\n",
              "       [ 0.13265494, -0.09725618],\n",
              "       [ 0.5081079 ,  0.10932168],\n",
              "       [ 0.13265494, -0.09725618],\n",
              "       [ 0.13265494, -0.09725618],\n",
              "       [ 0.13265494, -0.09725618],\n",
              "       [ 0.13265494, -0.09725618],\n",
              "       [ 0.13265494, -0.09725618],\n",
              "       [ 0.13265494, -0.09725618],\n",
              "       [ 0.13265494, -0.09725618],\n",
              "       [ 0.13806215, -0.1049179 ],\n",
              "       [ 0.75235856,  0.3111564 ],\n",
              "       [ 0.13265494, -0.09725618],\n",
              "       [ 0.13265494, -0.09725618],\n",
              "       [ 0.5160099 ,  0.11639652],\n",
              "       [ 0.13265494, -0.09725618],\n",
              "       [ 0.13265494, -0.09725618],\n",
              "       [ 0.52457976,  0.11522694],\n",
              "       [ 0.2367413 , -0.10657401],\n",
              "       [ 0.13265494, -0.09725618],\n",
              "       [ 0.8948436 ,  0.43371832],\n",
              "       [ 0.13265494, -0.09725618],\n",
              "       [ 0.7820486 ,  0.336695  ],\n",
              "       [ 0.13265494, -0.09725618],\n",
              "       [ 0.3279939 , -0.0330148 ],\n",
              "       [ 0.1709386 , -0.15150188],\n",
              "       [ 0.49383312,  0.10095018],\n",
              "       [ 0.2812368 , -0.07950225],\n",
              "       [ 0.13265494, -0.09725618],\n",
              "       [ 0.13265494, -0.09725618]], dtype=float32)"
            ]
          },
          "metadata": {
            "tags": []
          },
          "execution_count": 13
        }
      ]
    },
    {
      "cell_type": "code",
      "metadata": {
        "colab": {
          "base_uri": "https://localhost:8080/",
          "height": 282
        },
        "id": "QTqsPVcI393P",
        "outputId": "237235ff-76bb-44f0-b97f-e21ea86f64bd"
      },
      "source": [
        "plt.scatter(encoded_2dim[:,0],encoded_2dim[:,1],c=y)"
      ],
      "execution_count": 14,
      "outputs": [
        {
          "output_type": "execute_result",
          "data": {
            "text/plain": [
              "<matplotlib.collections.PathCollection at 0x7f6d82f62f10>"
            ]
          },
          "metadata": {
            "tags": []
          },
          "execution_count": 14
        },
        {
          "output_type": "display_data",
          "data": {
            "image/png": "[encoded data removed]",
            "text/plain": [
              "<Figure size 432x288 with 1 Axes>"
            ]
          },
          "metadata": {
            "tags": [],
            "needs_background": "light"
          }
        }
      ]
    },
    {
      "cell_type": "code",
      "metadata": {
        "colab": {
          "base_uri": "https://localhost:8080/",
          "height": 282
        },
        "id": "Fl4tVelY4JUK",
        "outputId": "6eed0d71-090d-4867-acaa-526e6f471d74"
      },
      "source": [
        "plt.scatter(feat['X1'],feat['X2'], c=y)"
      ],
      "execution_count": 15,
      "outputs": [
        {
          "output_type": "execute_result",
          "data": {
            "text/plain": [
              "<matplotlib.collections.PathCollection at 0x7f6d8af10e10>"
            ]
          },
          "metadata": {
            "tags": []
          },
          "execution_count": 15
        },
        {
          "output_type": "display_data",
          "data": {
            "image/png": "[encoded data removed]",
            "text/plain": [
              "<Figure size 432x288 with 1 Axes>"
            ]
          },
          "metadata": {
            "tags": [],
            "needs_background": "light"
          }
        }
      ]
    },
    {
      "cell_type": "code",
      "metadata": {
        "colab": {
          "base_uri": "https://localhost:8080/"
        },
        "id": "QJWNA3zZ4Wmv",
        "outputId": "7cffae5e-b05c-4b9b-d57f-2484425f4141"
      },
      "source": [
        "decodedData = decoder.predict(encoded_2dim)\n",
        "decodedData"
      ],
      "execution_count": 16,
      "outputs": [
        {
          "output_type": "execute_result",
          "data": {
            "text/plain": [
              "array([[-0.19578162, -0.48978597, -0.01321599],\n",
              "       [-0.19578162, -0.48978597, -0.01321599],\n",
              "       [-0.19578162, -0.48978597, -0.01321599],\n",
              "       [-0.19578162, -0.48978597, -0.01321599],\n",
              "       [-0.19578162, -0.48978597, -0.01321599],\n",
              "       [-0.19578162, -0.48978597, -0.01321599],\n",
              "       [-0.19578162, -0.48978597, -0.01321599],\n",
              "       [-0.19578162, -0.48978597, -0.01321599],\n",
              "       [-0.19578162, -0.48978597, -0.01321599],\n",
              "       [-0.19578162, -0.48978597, -0.01321599],\n",
              "       [-0.19578162, -0.48978597, -0.01321599],\n",
              "       [-0.19578162, -0.48978597, -0.01321599],\n",
              "       [-0.19578162, -0.48978597, -0.01321599],\n",
              "       [-0.19578162, -0.48978597, -0.01321599],\n",
              "       [-0.19578162, -0.48978597, -0.01321599],\n",
              "       [-0.19578162, -0.48978597, -0.01321599],\n",
              "       [-0.19578162, -0.48978597, -0.01321599],\n",
              "       [-0.19578162, -0.48978597, -0.01321599],\n",
              "       [-0.19578162, -0.48978597, -0.01321599],\n",
              "       [-0.19578162, -0.48978597, -0.01321599],\n",
              "       [-0.19578162, -0.48978597, -0.01321599],\n",
              "       [-0.19578162, -0.48978597, -0.01321599],\n",
              "       [-0.19578162, -0.48978597, -0.01321599],\n",
              "       [-0.19578162, -0.48978597, -0.01321599],\n",
              "       [-0.19578162, -0.48978597, -0.01321599],\n",
              "       [-0.19578162, -0.48978597, -0.01321599],\n",
              "       [-0.19578162, -0.48978597, -0.01321599],\n",
              "       [-0.19578162, -0.48978597, -0.01321599],\n",
              "       [-0.19578162, -0.48978597, -0.01321599],\n",
              "       [-0.19578162, -0.48978597, -0.01321599],\n",
              "       [-0.19578162, -0.48978597, -0.01321599],\n",
              "       [-0.19578162, -0.48978597, -0.01321599],\n",
              "       [-0.19578162, -0.48978597, -0.01321599],\n",
              "       [-0.19578162, -0.48978597, -0.01321599],\n",
              "       [-0.19578162, -0.48978597, -0.01321599],\n",
              "       [-0.19578162, -0.48978597, -0.01321599],\n",
              "       [-0.19578162, -0.48978597, -0.01321599],\n",
              "       [-0.19578162, -0.48978597, -0.01321599],\n",
              "       [-0.19578162, -0.48978597, -0.01321599],\n",
              "       [-0.19578162, -0.48978597, -0.01321599],\n",
              "       [-0.19578162, -0.48978597, -0.01321599],\n",
              "       [-0.19578162, -0.48978597, -0.01321599],\n",
              "       [-0.19578162, -0.48978597, -0.01321599],\n",
              "       [-0.19578162, -0.48978597, -0.01321599],\n",
              "       [-0.19578162, -0.48978597, -0.01321599],\n",
              "       [-0.19578162, -0.48978597, -0.01321599],\n",
              "       [-0.19578162, -0.48978597, -0.01321599],\n",
              "       [-0.19578162, -0.48978597, -0.01321599],\n",
              "       [-0.19578162, -0.48978597, -0.01321599],\n",
              "       [-0.19578162, -0.48978597, -0.01321599],\n",
              "       [-0.19578162, -0.48978597, -0.01321599],\n",
              "       [-0.19578162, -0.48978597, -0.01321599],\n",
              "       [-0.19578162, -0.48978597, -0.01321599],\n",
              "       [-0.19578162, -0.48978597, -0.01321599],\n",
              "       [-0.19578162, -0.48978597, -0.01321599],\n",
              "       [-0.19578162, -0.48978597, -0.01321599],\n",
              "       [-0.19578162, -0.48978597, -0.01321599],\n",
              "       [-0.19578162, -0.48978597, -0.01321599],\n",
              "       [-0.19578162, -0.48978597, -0.01321599],\n",
              "       [-0.19578162, -0.48978597, -0.01321599],\n",
              "       [-0.19578162, -0.48978597, -0.01321599],\n",
              "       [-0.19578162, -0.48978597, -0.01321599],\n",
              "       [-0.19578162, -0.48978597, -0.01321599],\n",
              "       [-0.19578162, -0.48978597, -0.01321599],\n",
              "       [-0.19578162, -0.48978597, -0.01321599],\n",
              "       [-0.19578162, -0.48978597, -0.01321599],\n",
              "       [-0.19578162, -0.48978597, -0.01321599],\n",
              "       [-0.19578162, -0.48978597, -0.01321599],\n",
              "       [-0.19578162, -0.48978597, -0.01321599],\n",
              "       [-0.19578162, -0.48978597, -0.01321599],\n",
              "       [-0.19578162, -0.48978597, -0.01321599],\n",
              "       [-0.19578162, -0.48978597, -0.01321599],\n",
              "       [-0.19578162, -0.48978597, -0.01321599],\n",
              "       [-0.19578162, -0.48978597, -0.01321599],\n",
              "       [-0.19578162, -0.48978597, -0.01321599],\n",
              "       [-0.19578162, -0.48978597, -0.01321599],\n",
              "       [-0.19578162, -0.48978597, -0.01321599],\n",
              "       [-0.19578162, -0.48978597, -0.01321599],\n",
              "       [-0.19578162, -0.48978597, -0.01321599],\n",
              "       [-0.19578162, -0.48978597, -0.01321599],\n",
              "       [-0.19578162, -0.48978597, -0.01321599],\n",
              "       [-0.19578162, -0.48978597, -0.01321599],\n",
              "       [-0.19578162, -0.48978597, -0.01321599],\n",
              "       [-0.19578162, -0.48978597, -0.01321599],\n",
              "       [-0.19578162, -0.48978597, -0.01321599],\n",
              "       [-0.19578162, -0.48978597, -0.01321599],\n",
              "       [-0.19578162, -0.48978597, -0.01321599],\n",
              "       [-0.19578162, -0.48978597, -0.01321599],\n",
              "       [-0.19578162, -0.48978597, -0.01321599],\n",
              "       [-0.19578162, -0.48978597, -0.01321599],\n",
              "       [-0.19578162, -0.48978597, -0.01321599],\n",
              "       [-0.19578162, -0.48978597, -0.01321599],\n",
              "       [-0.19578162, -0.48978597, -0.01321599],\n",
              "       [-0.19578162, -0.48978597, -0.01321599],\n",
              "       [-0.19578162, -0.48978597, -0.01321599],\n",
              "       [-0.19578162, -0.48978597, -0.01321599],\n",
              "       [-0.19578162, -0.48978597, -0.01321599],\n",
              "       [-0.19578162, -0.48978597, -0.01321599],\n",
              "       [-0.19578162, -0.48978597, -0.01321599],\n",
              "       [-0.19578162, -0.48978597, -0.01321599],\n",
              "       [-0.19578162, -0.48978597, -0.01321599],\n",
              "       [-0.19578162, -0.48978597, -0.01321599],\n",
              "       [-0.19578162, -0.48978597, -0.01321599],\n",
              "       [-0.19578162, -0.48978597, -0.01321599],\n",
              "       [-0.19578162, -0.48978597, -0.01321599],\n",
              "       [-0.19578162, -0.48978597, -0.01321599],\n",
              "       [-0.19578162, -0.48978597, -0.01321599],\n",
              "       [-0.19578162, -0.48978597, -0.01321599],\n",
              "       [-0.19578162, -0.48978597, -0.01321599],\n",
              "       [-0.19578162, -0.48978597, -0.01321599],\n",
              "       [-0.19578162, -0.48978597, -0.01321599],\n",
              "       [-0.19578162, -0.48978597, -0.01321599],\n",
              "       [-0.19578162, -0.48978597, -0.01321599],\n",
              "       [-0.19578162, -0.48978597, -0.01321599],\n",
              "       [-0.19578162, -0.48978597, -0.01321599],\n",
              "       [-0.19578162, -0.48978597, -0.01321599],\n",
              "       [-0.19578162, -0.48978597, -0.01321599],\n",
              "       [-0.19578162, -0.48978597, -0.01321599],\n",
              "       [-0.19578162, -0.48978597, -0.01321599],\n",
              "       [-0.19578162, -0.48978597, -0.01321599],\n",
              "       [-0.19578162, -0.48978597, -0.01321599],\n",
              "       [-0.19578162, -0.48978597, -0.01321599],\n",
              "       [-0.19578162, -0.48978597, -0.01321599],\n",
              "       [-0.19578162, -0.48978597, -0.01321599],\n",
              "       [-0.19578162, -0.48978597, -0.01321599],\n",
              "       [-0.19578162, -0.48978597, -0.01321599],\n",
              "       [-0.19578162, -0.48978597, -0.01321599],\n",
              "       [-0.19578162, -0.48978597, -0.01321599],\n",
              "       [-0.19578162, -0.48978597, -0.01321599],\n",
              "       [-0.19578162, -0.48978597, -0.01321599],\n",
              "       [-0.19578162, -0.48978597, -0.01321599],\n",
              "       [-0.19578162, -0.48978597, -0.01321599],\n",
              "       [-0.19578162, -0.48978597, -0.01321599],\n",
              "       [-0.19578162, -0.48978597, -0.01321599],\n",
              "       [-0.19578162, -0.48978597, -0.01321599],\n",
              "       [-0.19578162, -0.48978597, -0.01321599],\n",
              "       [-0.19578162, -0.48978597, -0.01321599],\n",
              "       [-0.19578162, -0.48978597, -0.01321599],\n",
              "       [-0.19578162, -0.48978597, -0.01321599],\n",
              "       [-0.19578162, -0.48978597, -0.01321599],\n",
              "       [-0.19578162, -0.48978597, -0.01321599],\n",
              "       [-0.19578162, -0.48978597, -0.01321599],\n",
              "       [-0.19578162, -0.48978597, -0.01321599],\n",
              "       [-0.19578162, -0.48978597, -0.01321599],\n",
              "       [-0.19578162, -0.48978597, -0.01321599],\n",
              "       [-0.19578162, -0.48978597, -0.01321599],\n",
              "       [-0.19578162, -0.48978597, -0.01321599],\n",
              "       [-0.19578162, -0.48978597, -0.01321599],\n",
              "       [-0.19578162, -0.48978597, -0.01321599],\n",
              "       [-0.19578162, -0.48978597, -0.01321599],\n",
              "       [-0.19578162, -0.48978597, -0.01321599],\n",
              "       [-0.19578162, -0.48978597, -0.01321599],\n",
              "       [-0.19578162, -0.48978597, -0.01321599],\n",
              "       [-0.19578162, -0.48978597, -0.01321599],\n",
              "       [-0.19578162, -0.48978597, -0.01321599],\n",
              "       [-0.19578162, -0.48978597, -0.01321599],\n",
              "       [-0.19578162, -0.48978597, -0.01321599],\n",
              "       [-0.19578162, -0.48978597, -0.01321599],\n",
              "       [-0.19578162, -0.48978597, -0.01321599],\n",
              "       [-0.19578162, -0.48978597, -0.01321599],\n",
              "       [-0.19578162, -0.48978597, -0.01321599],\n",
              "       [-0.19578162, -0.48978597, -0.01321599],\n",
              "       [-0.19578162, -0.48978597, -0.01321599],\n",
              "       [-0.19578162, -0.48978597, -0.01321599],\n",
              "       [-0.19578162, -0.48978597, -0.01321599],\n",
              "       [-0.19578162, -0.48978597, -0.01321599],\n",
              "       [-0.19578162, -0.48978597, -0.01321599],\n",
              "       [-0.19578162, -0.48978597, -0.01321599],\n",
              "       [-0.19578162, -0.48978597, -0.01321599],\n",
              "       [-0.19578162, -0.48978597, -0.01321599],\n",
              "       [-0.19578162, -0.48978597, -0.01321599],\n",
              "       [-0.19578162, -0.48978597, -0.01321599],\n",
              "       [-0.19578162, -0.48978597, -0.01321599],\n",
              "       [-0.19578162, -0.48978597, -0.01321599],\n",
              "       [-0.19578162, -0.48978597, -0.01321599],\n",
              "       [-0.19578162, -0.48978597, -0.01321599],\n",
              "       [-0.19578162, -0.48978597, -0.01321599],\n",
              "       [-0.19578162, -0.48978597, -0.01321599],\n",
              "       [-0.19578162, -0.48978597, -0.01321599],\n",
              "       [-0.19578162, -0.48978597, -0.01321599],\n",
              "       [-0.19578162, -0.48978597, -0.01321599],\n",
              "       [-0.19578162, -0.48978597, -0.01321599],\n",
              "       [-0.19578162, -0.48978597, -0.01321599],\n",
              "       [-0.19578162, -0.48978597, -0.01321599],\n",
              "       [-0.19578162, -0.48978597, -0.01321599],\n",
              "       [-0.19578162, -0.48978597, -0.01321599],\n",
              "       [-0.19578162, -0.48978597, -0.01321599],\n",
              "       [-0.19578162, -0.48978597, -0.01321599],\n",
              "       [-0.19578162, -0.48978597, -0.01321599],\n",
              "       [-0.19578162, -0.48978597, -0.01321599],\n",
              "       [-0.19578162, -0.48978597, -0.01321599],\n",
              "       [-0.19578162, -0.48978597, -0.01321599],\n",
              "       [-0.19578162, -0.48978597, -0.01321599],\n",
              "       [-0.19578162, -0.48978597, -0.01321599],\n",
              "       [-0.19578162, -0.48978597, -0.01321599],\n",
              "       [-0.19578162, -0.48978597, -0.01321599],\n",
              "       [-0.19578162, -0.48978597, -0.01321599],\n",
              "       [-0.19578162, -0.48978597, -0.01321599],\n",
              "       [-0.19578162, -0.48978597, -0.01321599],\n",
              "       [-0.19578162, -0.48978597, -0.01321599],\n",
              "       [-0.19578162, -0.48978597, -0.01321599],\n",
              "       [-0.19578162, -0.48978597, -0.01321599],\n",
              "       [-0.19578162, -0.48978597, -0.01321599],\n",
              "       [-0.19578162, -0.48978597, -0.01321599],\n",
              "       [-0.19578162, -0.48978597, -0.01321599],\n",
              "       [-0.19578162, -0.48978597, -0.01321599],\n",
              "       [-0.19578162, -0.48978597, -0.01321599],\n",
              "       [-0.19578162, -0.48978597, -0.01321599],\n",
              "       [-0.19578162, -0.48978597, -0.01321599],\n",
              "       [-0.19578162, -0.48978597, -0.01321599],\n",
              "       [-0.19578162, -0.48978597, -0.01321599],\n",
              "       [-0.19578162, -0.48978597, -0.01321599],\n",
              "       [-0.19578162, -0.48978597, -0.01321599],\n",
              "       [-0.19578162, -0.48978597, -0.01321599],\n",
              "       [-0.19578162, -0.48978597, -0.01321599],\n",
              "       [-0.19578162, -0.48978597, -0.01321599],\n",
              "       [-0.19578162, -0.48978597, -0.01321599],\n",
              "       [-0.19578162, -0.48978597, -0.01321599],\n",
              "       [-0.19578162, -0.48978597, -0.01321599],\n",
              "       [-0.19578162, -0.48978597, -0.01321599],\n",
              "       [-0.19578162, -0.48978597, -0.01321599],\n",
              "       [-0.19578162, -0.48978597, -0.01321599],\n",
              "       [-0.19578162, -0.48978597, -0.01321599],\n",
              "       [-0.19578162, -0.48978597, -0.01321599],\n",
              "       [-0.19578162, -0.48978597, -0.01321599],\n",
              "       [-0.19578162, -0.48978597, -0.01321599],\n",
              "       [-0.19578162, -0.48978597, -0.01321599],\n",
              "       [-0.19578162, -0.48978597, -0.01321599],\n",
              "       [-0.19578162, -0.48978597, -0.01321599],\n",
              "       [-0.19578162, -0.48978597, -0.01321599],\n",
              "       [-0.19578162, -0.48978597, -0.01321599],\n",
              "       [-0.19578162, -0.48978597, -0.01321599],\n",
              "       [-0.19578162, -0.48978597, -0.01321599],\n",
              "       [-0.19578162, -0.48978597, -0.01321599],\n",
              "       [-0.19578162, -0.48978597, -0.01321599],\n",
              "       [-0.19578162, -0.48978597, -0.01321599],\n",
              "       [-0.19578162, -0.48978597, -0.01321599],\n",
              "       [-0.19578162, -0.48978597, -0.01321599],\n",
              "       [-0.19578162, -0.48978597, -0.01321599],\n",
              "       [-0.19578162, -0.48978597, -0.01321599],\n",
              "       [-0.19578162, -0.48978597, -0.01321599],\n",
              "       [-0.19578162, -0.48978597, -0.01321599],\n",
              "       [-0.19578162, -0.48978597, -0.01321599],\n",
              "       [-0.19578162, -0.48978597, -0.01321599],\n",
              "       [-0.19578162, -0.48978597, -0.01321599],\n",
              "       [-0.19578162, -0.48978597, -0.01321599],\n",
              "       [-0.19578162, -0.48978597, -0.01321599],\n",
              "       [-0.19578162, -0.48978597, -0.01321599],\n",
              "       [-0.19578162, -0.48978597, -0.01321599],\n",
              "       [-0.19578162, -0.48978597, -0.01321599],\n",
              "       [-0.19578162, -0.48978597, -0.01321599],\n",
              "       [-0.19578162, -0.48978597, -0.01321599],\n",
              "       [-0.19578162, -0.48978597, -0.01321599],\n",
              "       [-0.19578162, -0.48978597, -0.01321599],\n",
              "       [-0.19578162, -0.48978597, -0.01321599],\n",
              "       [-0.19578162, -0.48978597, -0.01321599],\n",
              "       [-0.19578162, -0.48978597, -0.01321599],\n",
              "       [-0.19578162, -0.48978597, -0.01321599],\n",
              "       [-0.19578162, -0.48978597, -0.01321599],\n",
              "       [-0.19578162, -0.48978597, -0.01321599],\n",
              "       [-0.19578162, -0.48978597, -0.01321599],\n",
              "       [-0.19578162, -0.48978597, -0.01321599],\n",
              "       [-0.19578162, -0.48978597, -0.01321599],\n",
              "       [-0.19578162, -0.48978597, -0.01321599],\n",
              "       [-0.19578162, -0.48978597, -0.01321599],\n",
              "       [-0.19578162, -0.48978597, -0.01321599],\n",
              "       [-0.19578162, -0.48978597, -0.01321599],\n",
              "       [-0.19578162, -0.48978597, -0.01321599],\n",
              "       [-0.19578162, -0.48978597, -0.01321599],\n",
              "       [-0.19578162, -0.48978597, -0.01321599],\n",
              "       [-0.19578162, -0.48978597, -0.01321599],\n",
              "       [-0.19578162, -0.48978597, -0.01321599],\n",
              "       [-0.19578162, -0.48978597, -0.01321599],\n",
              "       [-0.19578162, -0.48978597, -0.01321599],\n",
              "       [-0.19578162, -0.48978597, -0.01321599],\n",
              "       [-0.19578162, -0.48978597, -0.01321599],\n",
              "       [-0.19578162, -0.48978597, -0.01321599],\n",
              "       [-0.19578162, -0.48978597, -0.01321599],\n",
              "       [-0.19578162, -0.48978597, -0.01321599],\n",
              "       [-0.19578162, -0.48978597, -0.01321599],\n",
              "       [-0.19578162, -0.48978597, -0.01321599],\n",
              "       [-0.19578162, -0.48978597, -0.01321599],\n",
              "       [-0.19578162, -0.48978597, -0.01321599],\n",
              "       [-0.19578162, -0.48978597, -0.01321599],\n",
              "       [-0.19578162, -0.48978597, -0.01321599],\n",
              "       [-0.19578162, -0.48978597, -0.01321599],\n",
              "       [-0.19578162, -0.48978597, -0.01321599],\n",
              "       [-0.19578162, -0.48978597, -0.01321599],\n",
              "       [-0.19578162, -0.48978597, -0.01321599],\n",
              "       [-0.19578162, -0.48978597, -0.01321599],\n",
              "       [-0.19578162, -0.48978597, -0.01321599],\n",
              "       [-0.19578162, -0.48978597, -0.01321599],\n",
              "       [-0.19578162, -0.48978597, -0.01321599],\n",
              "       [-0.19578162, -0.48978597, -0.01321599],\n",
              "       [-0.19578162, -0.48978597, -0.01321599],\n",
              "       [-0.19578162, -0.48978597, -0.01321599],\n",
              "       [-0.19578162, -0.48978597, -0.01321599],\n",
              "       [-0.19578162, -0.48978597, -0.01321599],\n",
              "       [-0.19578162, -0.48978597, -0.01321599],\n",
              "       [-0.19578162, -0.48978597, -0.01321599]], dtype=float32)"
            ]
          },
          "metadata": {
            "tags": []
          },
          "execution_count": 16
        }
      ]
    },
    {
      "cell_type": "code",
      "metadata": {
        "colab": {
          "base_uri": "https://localhost:8080/",
          "height": 265
        },
        "id": "MzPvv1jG4jzu",
        "outputId": "aca48039-6fbf-4cdf-ec6a-7d0a92297460"
      },
      "source": [
        "%matplotlib inline\n",
        "fig = plt.figure()\n",
        "ax = fig.add_subplot(111,projection='3d')\n",
        "ax.scatter(decodedData[:,0],decodedData[:,1],decodedData[:,2],c=y)"
      ],
      "execution_count": 17,
      "outputs": [
        {
          "output_type": "execute_result",
          "data": {
            "text/plain": [
              "<mpl_toolkits.mplot3d.art3d.Path3DCollection at 0x7f6d81e67810>"
            ]
          },
          "metadata": {
            "tags": []
          },
          "execution_count": 17
        },
        {
          "output_type": "display_data",
          "data": {
            "image/png": "[encoded data removed]",
            "text/plain": [
              "<Figure size 432x288 with 1 Axes>"
            ]
          },
          "metadata": {
            "tags": [],
            "needs_background": "light"
          }
        }
      ]
    },
    {
      "cell_type": "code",
      "metadata": {
        "id": "7ajBOKS-4w2u"
      },
      "source": [
        ""
      ],
      "execution_count": null,
      "outputs": []
    },
    {
      "cell_type": "code",
      "metadata": {
        "id": "EKUaDkkn9U1S"
      },
      "source": [
        ""
      ],
      "execution_count": null,
      "outputs": []
    },
    {
      "cell_type": "code",
      "metadata": {
        "id": "8WlQK7CC9VLl"
      },
      "source": [
        ""
      ],
      "execution_count": null,
      "outputs": []
    }
  ]
}